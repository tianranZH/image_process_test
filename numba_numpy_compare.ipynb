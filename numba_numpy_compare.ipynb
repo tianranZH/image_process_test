{
 "cells": [
  {
   "cell_type": "code",
   "execution_count": 75,
   "metadata": {},
   "outputs": [],
   "source": [
    "import numpy as np \n",
    "import matplotlib.pyplot as plt\n",
    "from skimage.filters import median\n",
    "from numba import jit, njit, prange\n"
   ]
  },
  {
   "cell_type": "code",
   "execution_count": 76,
   "metadata": {},
   "outputs": [
    {
     "name": "stdout",
     "output_type": "stream",
     "text": [
      "Total pixel number: 640000\n",
      "Invalide value number: 6400\n"
     ]
    }
   ],
   "source": [
    "N_COL, N_ROW = 1000,640\n",
    "invalid_raio = 0.01\n",
    "\n",
    "test_arr = np.random.randint(0, 255, (N_COL, N_ROW), dtype=int)\n",
    "N_invalid = int(N_COL*N_ROW*invalid_raio)\n",
    "print (f\"Total pixel number: {N_COL*N_ROW}\")\n",
    "print (f\"Invalide value number: {N_invalid}\")\n",
    "\n",
    "# assign invalid value as -1\n",
    "xlist = np.random.randint(0, N_COL, N_invalid)\n",
    "ylist = np.random.randint(0, N_ROW, N_invalid)\n",
    "test_arr[xlist, ylist] = -1"
   ]
  },
  {
   "cell_type": "code",
   "execution_count": 77,
   "metadata": {},
   "outputs": [],
   "source": [
    "def test_raw_loop(input_arr, filter=\"median\",kernel_size=3):\n",
    "    xlist,ylist = np.where(input_arr<0)\n",
    "    for ix,iy in zip(xlist,ylist):\n",
    "        arr_kernel = input_arr[max(ix-kernel_size,0):min(ix+kernel_size+1,N_COL), max(iy-kernel_size,0):min(iy+kernel_size+1,N_ROW)]\n",
    "        if filter == \"median\":\n",
    "            input_arr[ix,iy] = np.median(arr_kernel[arr_kernel>=0])\n",
    "        elif filter == \"mean\":\n",
    "            input_arr[ix,iy] = np.mean(arr_kernel[arr_kernel>=0])\n",
    "        else:\n",
    "            raise ValueError(\"filter should be either median or mean\")\n",
    "    return input_arr"
   ]
  },
  {
   "cell_type": "code",
   "execution_count": 78,
   "metadata": {},
   "outputs": [
    {
     "name": "stdout",
     "output_type": "stream",
     "text": [
      "1.45 ms ± 68.5 µs per loop (mean ± std. dev. of 7 runs, 1,000 loops each)\n"
     ]
    }
   ],
   "source": [
    "%%timeit\n",
    "\n",
    "output_arr = test_raw_loop(test_arr, filter=\"median\",kernel_size=3)"
   ]
  },
  {
   "cell_type": "code",
   "execution_count": 79,
   "metadata": {},
   "outputs": [],
   "source": [
    "@jit(nopython=True)\n",
    "def test_numba_jit(input_arr, filter=\"median\",kernel_size=3):\n",
    "    for ix,iy in zip(xlist,ylist):\n",
    "        arr_kernel = input_arr[max(ix-kernel_size,0):min(ix+kernel_size+1,N_COL), max(iy-kernel_size,0):min(iy+kernel_size+1,N_ROW)]\n",
    "        if filter == \"median\":\n",
    "            input_arr[ix,iy] = np.nanmedian(arr_kernel)\n",
    "        elif filter == \"mean\":\n",
    "            input_arr[ix,iy] = np.nanmean(arr_kernel)\n",
    "        else:\n",
    "            raise ValueError(\"filter should be either median or mean\")\n",
    "    return input_arr\n",
    "\n",
    "test_arr = test_arr.astype(np.uint8)\n",
    "test_arr[test_arr<0] = 10"
   ]
  },
  {
   "cell_type": "code",
   "execution_count": 67,
   "metadata": {},
   "outputs": [
    {
     "name": "stderr",
     "output_type": "stream",
     "text": [
      "/root/.local/lib/python3.11/site-packages/numba/core/typed_passes.py:334: NumbaPerformanceWarning: \n",
      "The keyword argument 'parallel=True' was specified but no transformation for parallel execution was possible.\n",
      "\n",
      "To find out why, try turning on parallel diagnostics, see https://numba.readthedocs.io/en/stable/user/parallel.html#diagnostics for help.\n",
      "\n",
      "File \"../../tmp/ipykernel_2328/3317236485.py\", line 2:\n",
      "<source missing, REPL/exec in use?>\n",
      "\n",
      "  warnings.warn(errors.NumbaPerformanceWarning(msg,\n"
     ]
    },
    {
     "name": "stdout",
     "output_type": "stream",
     "text": [
      "2.96 ms ± 218 µs per loop (mean ± std. dev. of 7 runs, 1 loop each)\n"
     ]
    }
   ],
   "source": [
    "%%timeit\n",
    "output_arr = test_numba_jit(test_arr, filter=\"median\",kernel_size=3)"
   ]
  },
  {
   "cell_type": "code",
   "execution_count": 107,
   "metadata": {},
   "outputs": [],
   "source": [
    "\n",
    "@njit(parallel=True)\n",
    "def test_numba_para(input_arr, filter=\"median\",kernel_size=3):\n",
    "    NX,NY = input_arr.shape\n",
    "    for i in prange(NX):\n",
    "        for j in prange(NY):\n",
    "            if input_arr[i,j]<0:\n",
    "                collect_list = []\n",
    "                for k_i in prange(max(i-kernel_size,0),min(i+kernel_size+1,N_COL)):\n",
    "                    for k_j in prange(max(j-kernel_size,0),min(j+kernel_size+1,N_ROW)):\n",
    "                        if input_arr[i+k_i,j+k_j]>=0:\n",
    "                            collect_list.append(input_arr[i+k_i,j+k_j])\n",
    "                if filter == \"median\":\n",
    "                    input_arr[i,j] = np.median(np.array(collect_list))\n",
    "                elif filter == \"mean\":\n",
    "                    input_arr[i,j] = np.mean(np.array(collect_list))\n",
    "                else:\n",
    "                    raise ValueError(\"filter should be either median or mean\")\n",
    "    return input_arr"
   ]
  },
  {
   "cell_type": "code",
   "execution_count": 109,
   "metadata": {},
   "outputs": [
    {
     "name": "stdout",
     "output_type": "stream",
     "text": [
      "2.18 µs ± 35.8 ns per loop (mean ± std. dev. of 7 runs, 100,000 loops each)\n"
     ]
    }
   ],
   "source": [
    "%%timeit\n",
    "output_arr = test_numba_para(test_arr, filter=\"median\",kernel_size=3)"
   ]
  }
 ],
 "metadata": {
  "kernelspec": {
   "display_name": "Python 3",
   "language": "python",
   "name": "python3"
  },
  "language_info": {
   "codemirror_mode": {
    "name": "ipython",
    "version": 3
   },
   "file_extension": ".py",
   "mimetype": "text/x-python",
   "name": "python",
   "nbconvert_exporter": "python",
   "pygments_lexer": "ipython3",
   "version": "3.11.3"
  },
  "orig_nbformat": 4
 },
 "nbformat": 4,
 "nbformat_minor": 2
}
