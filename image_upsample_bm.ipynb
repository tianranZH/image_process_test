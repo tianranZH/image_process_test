{
 "cells": [
  {
   "cell_type": "code",
   "execution_count": 17,
   "metadata": {},
   "outputs": [],
   "source": [
    "import numpy as np\n",
    "import matplotlib.pyplot as plt\n",
    "from scipy.interpolate import RegularGridInterpolator\n",
    "import rasterio\n",
    "from rasterio.enums import Resampling\n",
    "import cv2\n",
    "\n",
    "\n",
    "nx, ny = 30,40\n",
    "r_upsample = 25\n",
    "\n",
    "test_image = np.arange(nx*ny).reshape(nx,ny)"
   ]
  },
  {
   "cell_type": "code",
   "execution_count": 14,
   "metadata": {},
   "outputs": [],
   "source": [
    "def upsample_scipy(img,r):\n",
    "    nx,ny = img.shape\n",
    "    x = np.arange(nx)\n",
    "    y = np.arange(ny)\n",
    "    f = RegularGridInterpolator((x, y), img, method='cubic',bounds_error=False,fill_value=None)\n",
    "    x_new = np.arange(0, nx, 1/r)\n",
    "    y_new = np.arange(0, ny, 1/r)\n",
    "    x_new, y_new = np.meshgrid(x_new, y_new, indexing='ij')\n",
    "    return f((x_new, y_new))"
   ]
  },
  {
   "cell_type": "code",
   "execution_count": 16,
   "metadata": {},
   "outputs": [
    {
     "name": "stdout",
     "output_type": "stream",
     "text": [
      "477 ms ± 3.36 ms per loop (mean ± std. dev. of 7 runs, 1 loop each)\n"
     ]
    }
   ],
   "source": [
    "%timeit upsample_scipy(test_image,r_upsample)"
   ]
  },
  {
   "cell_type": "code",
   "execution_count": 33,
   "metadata": {},
   "outputs": [],
   "source": [
    "def upsample_cv2(img, r):\n",
    "    # img to the size cv2 expects\n",
    "    img = np.uint16(img)\n",
    "    # Determine the new size for the image\n",
    "    new_size = (int(img.shape[1] * r), int(img.shape[0] * r))\n",
    "    \n",
    "    # Perform the resizing using cubic interpolation\n",
    "    img_resized = cv2.resize(img, new_size, interpolation=cv2.INTER_CUBIC)\n",
    "    \n",
    "    return img_resized"
   ]
  },
  {
   "cell_type": "code",
   "execution_count": 34,
   "metadata": {},
   "outputs": [
    {
     "name": "stdout",
     "output_type": "stream",
     "text": [
      "681 μs ± 9.29 μs per loop (mean ± std. dev. of 7 runs, 1,000 loops each)\n"
     ]
    }
   ],
   "source": [
    "%timeit upsample_cv2(test_image,r_upsample)"
   ]
  },
  {
   "cell_type": "code",
   "execution_count": 35,
   "metadata": {},
   "outputs": [
    {
     "name": "stderr",
     "output_type": "stream",
     "text": [
      "/mnt/c/Users/tianr/Github/image_process_test/.venv/lib/python3.11/site-packages/rasterio/__init__.py:314: NotGeoreferencedWarning: Dataset has no geotransform, gcps, or rpcs. The identity matrix will be returned.\n",
      "  dataset = writer(\n"
     ]
    }
   ],
   "source": [
    "\n",
    "def upsample_rasterio(tiff_path, r):\n",
    "    \n",
    "    with rasterio.open(tiff_path) as src:\n",
    "        # resample data to target shape\n",
    "        img_resampled = src.read(\n",
    "            out_shape=(\n",
    "                src.count,\n",
    "                int(src.height * r),\n",
    "                int(src.width * r)\n",
    "            ),\n",
    "            resampling=Resampling.cubic\n",
    "        )\n",
    "    \n",
    "    return img_resampled\n",
    "\n",
    "\n",
    "# create a new rasterio dataset from img\n",
    "tif_path = 'test.tif'\n",
    "with rasterio.open(tif_path, 'w', driver='GTiff', height=test_image.shape[0], width=test_image.shape[1], count=1, dtype=test_image.dtype) as dst:\n",
    "    dst.write(test_image, 1)"
   ]
  },
  {
   "cell_type": "code",
   "execution_count": 36,
   "metadata": {},
   "outputs": [
    {
     "name": "stderr",
     "output_type": "stream",
     "text": [
      "/mnt/c/Users/tianr/Github/image_process_test/.venv/lib/python3.11/site-packages/rasterio/__init__.py:304: NotGeoreferencedWarning: Dataset has no geotransform, gcps, or rpcs. The identity matrix will be returned.\n",
      "  dataset = DatasetReader(path, driver=driver, sharing=sharing, **kwargs)\n"
     ]
    },
    {
     "name": "stdout",
     "output_type": "stream",
     "text": [
      "8.43 ms ± 170 μs per loop (mean ± std. dev. of 7 runs, 100 loops each)\n"
     ]
    }
   ],
   "source": [
    "%timeit upsample_rasterio(tif_path,r_upsample)"
   ]
  }
 ],
 "metadata": {
  "kernelspec": {
   "display_name": ".venv",
   "language": "python",
   "name": "python3"
  },
  "language_info": {
   "codemirror_mode": {
    "name": "ipython",
    "version": 3
   },
   "file_extension": ".py",
   "mimetype": "text/x-python",
   "name": "python",
   "nbconvert_exporter": "python",
   "pygments_lexer": "ipython3",
   "version": "3.11.9"
  }
 },
 "nbformat": 4,
 "nbformat_minor": 2
}
